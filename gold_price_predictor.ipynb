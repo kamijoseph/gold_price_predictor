{
 "cells": [
  {
   "cell_type": "markdown",
   "id": "21adb885-445f-42b0-8020-19840be35688",
   "metadata": {},
   "source": [
    "# Gold Price Predictor Model"
   ]
  },
  {
   "cell_type": "code",
   "execution_count": 3,
   "id": "18b56796-5abe-404d-9ad8-6a6529bccbb7",
   "metadata": {},
   "outputs": [],
   "source": [
    "import numpy as np\n",
    "import pandas as pd\n",
    "import matplotlib.pyplot as plt\n",
    "from sklearn.model_selection import train_test_split\n",
    "from sklearn import metrics\n",
    "import seaborn as sns"
   ]
  },
  {
   "cell_type": "code",
   "execution_count": null,
   "id": "d3ff164c-6599-4f03-ba71-8b89251b2cbf",
   "metadata": {},
   "outputs": [],
   "source": []
  }
 ],
 "metadata": {
  "kernelspec": {
   "display_name": "Python 3 (ipykernel)",
   "language": "python",
   "name": "python3"
  },
  "language_info": {
   "codemirror_mode": {
    "name": "ipython",
    "version": 3
   },
   "file_extension": ".py",
   "mimetype": "text/x-python",
   "name": "python",
   "nbconvert_exporter": "python",
   "pygments_lexer": "ipython3",
   "version": "3.12.7"
  }
 },
 "nbformat": 4,
 "nbformat_minor": 5
}
